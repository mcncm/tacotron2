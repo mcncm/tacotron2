{
 "cells": [
  {
   "cell_type": "markdown",
   "metadata": {},
   "source": [
    "## Tacotron 2 inference code \n",
    "Edit the variables **checkpoint_path** and **text** to match yours and run the entire code to generate plots of mel outputs, alignments and audio synthesis from the generated mel-spectrogram using Griffin-Lim."
   ]
  },
  {
   "cell_type": "markdown",
   "metadata": {},
   "source": [
    "#### Import libraries and setup matplotlib"
   ]
  },
  {
   "cell_type": "code",
   "execution_count": null,
   "metadata": {},
   "outputs": [],
   "source": [
    "import warnings\n",
    "with warnings.catch_warnings():\n",
    "    warnings.filterwarnings('ignore', r'as a synonym of type is deprecated')\n",
    "\n",
    "from hparams import create_hparams\n",
    "hparams = create_hparams()\n",
    "hparams.batch_size = 4"
   ]
  },
  {
   "cell_type": "code",
   "execution_count": 31,
   "metadata": {},
   "outputs": [],
   "source": [
    "\n",
    "import os\n",
    "\n",
    "import matplotlib\n",
    "%matplotlib inline\n",
    "import matplotlib.pylab as plt\n",
    "from mpl_toolkits.axes_grid1 import make_axes_locatable\n",
    "\n",
    "import IPython.display as ipd\n",
    "\n",
    "import sys\n",
    "sys.path.append('waveglow/')\n",
    "from scipy.io import wavfile\n",
    "import numpy as np\n",
    "import torch\n",
    "import torch.nn as nn\n",
    "\n",
    "from hparams import create_hparams\n",
    "from model import Tacotron2\n",
    "from layers import TacotronSTFT, STFT\n",
    "from audio_processing import griffin_lim\n",
    "from train import load_model\n",
    "from text import text_to_sequence\n",
    "from denoiser import Denoiser\n",
    "from convert_model import update_model\n",
    "\n",
    "from train import prepare_dataloaders\n",
    "from torch.utils.data import DataLoader"
   ]
  },
  {
   "cell_type": "code",
   "execution_count": 6,
   "metadata": {},
   "outputs": [],
   "source": [
    "import denoiser"
   ]
  },
  {
   "cell_type": "markdown",
   "metadata": {},
   "source": [
    "#### Setup hparams"
   ]
  },
  {
   "cell_type": "code",
   "execution_count": 4,
   "metadata": {},
   "outputs": [],
   "source": [
    "hparams = create_hparams()"
   ]
  },
  {
   "cell_type": "markdown",
   "metadata": {},
   "source": [
    "#### Load model from checkpoint"
   ]
  },
  {
   "cell_type": "code",
   "execution_count": 5,
   "metadata": {},
   "outputs": [],
   "source": [
    "# checkpoint_path = \"tacotron2_statedict.pt\"\n",
    "checkpoint_path = 'new-test-outdir/checkpoint_27000'\n",
    "checkpoint_name = os.path.basename(checkpoint_path)\n",
    "model = load_model(hparams)\n",
    "model.load_state_dict(torch.load(checkpoint_path)['state_dict'])\n",
    "_ = model.cuda().eval()"
   ]
  },
  {
   "cell_type": "code",
   "execution_count": 7,
   "metadata": {},
   "outputs": [],
   "source": [
    "SAMPLE_RATE = 22050\n",
    "\n",
    "PROJ_DIR = '/home/mcncm/class/6.867/proj'\n",
    "OUT_DIR = os.path.join(PROJ_DIR, 'tacotron2/new-test-outdir')\n",
    "FIGS_DIR = os.path.join(PROJ_DIR, 'writeup/figures', checkpoint_name)\n",
    "if not os.path.exists(FIGS_DIR):\n",
    "    os.mkdir(FIGS_DIR)\n",
    "AUDIO_DIR = os.path.join(PROJ_DIR, 'audio', checkpoint_name)\n",
    "if not os.path.exists(AUDIO_DIR):\n",
    "    os.mkdir(AUDIO_DIR)\n",
    "\n",
    "fontsize=14\n",
    "\n",
    "def plot_data(filename, data, figsize=(16, 4)):\n",
    "    fig, axes = plt.subplots(1, len(data), figsize=figsize)\n",
    "    for i in range(len(data)):\n",
    "        axes[i].imshow(data[i], aspect='auto', origin='bottom', \n",
    "                       interpolation='none')\n",
    "    plt.savefig(os.path.join(FIGS_DIR, filename))\n",
    "    plt.show()\n",
    "\n",
    "    \n",
    "def plot_spectrogram(filename, spec, figsize=(16, 4), colorbar=False):\n",
    "    fig, axes = plt.subplots(1, 1, figsize=figsize)\n",
    "    im = axes.imshow(spec, aspect='auto', origin='bottom', \n",
    "                       interpolation='none')\n",
    "    axes.set_xlabel('Frame', fontsize=fontsize)\n",
    "    axes.set_ylabel('FFT bin', fontsize=fontsize)\n",
    "    \n",
    "    if colorbar:\n",
    "        divider = make_axes_locatable(axes)\n",
    "        cax = divider.append_axes(\"right\", size=\"5%\", pad=0.05)\n",
    "        plt.colorbar(im, cax=cax)\n",
    "\n",
    "    plt.savefig(os.path.join(FIGS_DIR, filename))\n",
    "    plt.show()\n",
    "\n",
    "def save_audio(filename, audio):\n",
    "    def center(data):\n",
    "        \"\"\"Rescale to [0, 1]\"\"\"\n",
    "        data -= np.max(data) + np.min(data)\n",
    "        data = data/np.max(data)\n",
    "        return data\n",
    "        \n",
    "    path = os.path.join(AUDIO_DIR, filename)\n",
    "    audio = center(audio.astype(np.float32))\n",
    "    wavfile.write(path, SAMPLE_RATE, audio)"
   ]
  },
  {
   "cell_type": "markdown",
   "metadata": {},
   "source": [
    "#### Load WaveGlow for mel2audio synthesis and denoiser"
   ]
  },
  {
   "cell_type": "code",
   "execution_count": 9,
   "metadata": {
    "scrolled": true
   },
   "outputs": [],
   "source": [
    "waveglow_path = 'waveglow_256channels_ljs_v2.pt'\n",
    "waveglow = update_model(torch.load(waveglow_path)['model']) \n",
    "waveglow.cuda().eval()\n",
    "for k in waveglow.convinv:\n",
    "    k.float()\n",
    "denoiser = Denoiser(waveglow)"
   ]
  },
  {
   "cell_type": "markdown",
   "metadata": {},
   "source": [
    "#### An example utterance"
   ]
  },
  {
   "cell_type": "code",
   "execution_count": 20,
   "metadata": {},
   "outputs": [],
   "source": [
    "train_loader, valset, collate_fn = prepare_dataloaders(hparams)\n",
    "\n",
    "def val_text(i: int):\n",
    "    return valset[i][0]\n",
    "\n",
    "def val_spec(i: int):\n",
    "    return valset[i][1]"
   ]
  },
  {
   "cell_type": "code",
   "execution_count": 11,
   "metadata": {},
   "outputs": [],
   "source": [
    "val_loader = DataLoader(valset, sampler=None, num_workers=1,\n",
    "                        shuffle=False, batch_size=4,\n",
    "                        pin_memory=False, collate_fn=collate_fn)\n",
    "x, y = model.parse_batch(next(iter(val_loader)))"
   ]
  },
  {
   "cell_type": "code",
   "execution_count": null,
   "metadata": {},
   "outputs": [],
   "source": [
    "embedded_inputs = model.embedding(x[0]).transpose(1, 2)\n",
    "encoder_outputs = model.encoder.inference(embedded_inputs)\n",
    "\n",
    "length = encoder_outputs.shape[1]\n",
    "# reshaping encoder outputs:\n",
    "# need shape (N, L, ref_embedding_dim)\n",
    "ref_encoder_outputs = model.ref_encoder(y[0]).unsqueeze(1).repeat(1, length, 1)\n",
    "\n",
    "print(encoder_outputs.shape)\n",
    "print(ref_encoder_outputs.shape)\n",
    "\n",
    "torch.cat((encoder_outputs[0,:,:], ref_encoder_outputs[0,:,:]), -1)\n",
    "mel_outputs, gate_outputs, alignments = model.decoder.inference(\n",
    "             torch.cat((encoder_outputs[0,:,:], ref_encoder_outputs[0,:,:]), -1))\n",
    " "
   ]
  },
  {
   "cell_type": "code",
   "execution_count": null,
   "metadata": {},
   "outputs": [],
   "source": [
    "def swap_mels(x, y):\n",
    "    r\"\"\"Insert y as the mels in x\n",
    "    \"\"\"\n",
    "    "
   ]
  },
  {
   "cell_type": "code",
   "execution_count": null,
   "metadata": {},
   "outputs": [],
   "source": [
    "def trim_spec(audio_data, threshold=-1e-7):\n",
    "    r\"\"\"Find where data is last nonzero, then return up to that point\n",
    "    \"\"\"\n",
    "    mins, _ = torch.min(audio_data, 0)\n",
    "    return audio_data[:, (mins < threshold).nonzero().squeeze()]"
   ]
  },
  {
   "cell_type": "code",
   "execution_count": null,
   "metadata": {},
   "outputs": [],
   "source": [
    "y_pred = model(x)\n",
    "\n",
    "common_name = 'new_model'\n",
    "\n",
    "# audio_data = denoiser(audio, strength=0.02).data.cpu().numpy()\n",
    "specs = []\n",
    "with torch.no_grad():\n",
    "    for i in range(y_pred[0].shape[0]):\n",
    "        spec = trim_spec(y_pred[0][i,...])\n",
    "        specs.append(spec.cpu())\n",
    "        audio_data = waveglow.infer(spec.unsqueeze(0), sigma=0.666)\n",
    " \n",
    "        audio_data = denoiser(audio_data, strength=0.02).data.cpu().numpy()\n",
    "        save_audio(common_name + \"_{}\".format(i) + '.wav', audio_data)\n",
    "\n",
    "        plot_spectrogram(common_name + \"_{}\".format(i) + '.png',\n",
    "                         spec.float().data.cpu().numpy(),\n",
    "                         figsize=(8, 4))\n"
   ]
  },
  {
   "cell_type": "code",
   "execution_count": null,
   "metadata": {},
   "outputs": [],
   "source": [
    "y_pred_transfer = model(x, y[0][(1,2,3,0),...])\n",
    "\n",
    "common_name = 'prosody_11k_steps_transfer'\n",
    "\n",
    "# audio_data = denoiser(audio, strength=0.02).data.cpu().numpy()\n",
    "with torch.no_grad():\n",
    "    for i in range(y_pred_transfer[0].shape[0]):\n",
    "        spec_transfer = trim_spec(y_pred_transfer[0][i,...])\n",
    "        audio_data = waveglow.infer(spec_transfer.unsqueeze(0), sigma=0.666)\n",
    " \n",
    "        audio_data = denoiser(audio_data, strength=0.02).data.cpu().numpy()\n",
    "        save_audio(common_name + \"_{}\".format(i) + '.wav', audio_data)\n",
    "\n",
    "        plot_spectrogram(common_name + \"_{}\".format(i) + '.png',\n",
    "                         spec_transfer.float().data.cpu().numpy(),\n",
    "                         figsize=(8, 4))"
   ]
  },
  {
   "cell_type": "markdown",
   "metadata": {},
   "source": [
    "### Let's try perturbing the reference encodings."
   ]
  },
  {
   "cell_type": "code",
   "execution_count": null,
   "metadata": {},
   "outputs": [],
   "source": [
    "true_specs = [trim_spec(y[0][i,...]) for i in range(y[0].shape[0])]\n",
    "embeddings = [model.reference_encoder(true_specs[i].unsqueeze(0)) for i in range(y[0].shape[0])]"
   ]
  },
  {
   "cell_type": "markdown",
   "metadata": {},
   "source": [
    "#### Reference encoding PCA\n",
    "\n",
    "`train_ref_encodings` should be a matrix of the reference encodings, such that\n",
    "`train_ref_encodings[i,:]` contains the reference encoding for example i."
   ]
  },
  {
   "cell_type": "code",
   "execution_count": 21,
   "metadata": {},
   "outputs": [
    {
     "name": "stdout",
     "output_type": "stream",
     "text": [
      "batch number 0\n",
      "batch number 10\n",
      "batch number 20\n",
      "batch number 30\n",
      "batch number 40\n",
      "batch number 50\n",
      "batch number 60\n",
      "batch number 70\n",
      "batch number 80\n",
      "batch number 90\n",
      "batch number 100\n",
      "batch number 110\n",
      "batch number 120\n",
      "batch number 130\n",
      "batch number 140\n",
      "batch number 150\n",
      "batch number 160\n",
      "batch number 170\n",
      "batch number 180\n",
      "batch number 190\n",
      "batch number 200\n",
      "batch number 210\n",
      "batch number 220\n",
      "batch number 230\n",
      "batch number 240\n",
      "batch number 250\n",
      "batch number 260\n",
      "batch number 270\n",
      "batch number 280\n",
      "batch number 290\n",
      "batch number 300\n",
      "batch number 310\n",
      "batch number 320\n",
      "batch number 330\n",
      "batch number 340\n",
      "batch number 350\n",
      "batch number 360\n",
      "batch number 370\n",
      "batch number 380\n",
      "batch number 390\n",
      "batch number 400\n",
      "batch number 410\n",
      "batch number 420\n",
      "batch number 430\n",
      "batch number 440\n",
      "batch number 450\n",
      "batch number 460\n",
      "batch number 470\n",
      "batch number 480\n",
      "batch number 490\n",
      "batch number 500\n",
      "batch number 510\n"
     ]
    }
   ],
   "source": [
    "try:\n",
    "    train_ref_encodings = np.load(os.path.join(OUT_DIR, \"train_ref_encodings.npy\"))\n",
    "except:\n",
    "    #hparams_big_batch = create_hparams()\n",
    "    #hparams_big_batch.batch_size = 48\n",
    "    #train_loader, valset, collate_fn = prepare_dataloaders(hparams_big_batch)\n",
    "    train_ref_encodings = []\n",
    "    for i, batch in enumerate(train_loader):\n",
    "        if i % 10 == 0:\n",
    "            print(\"batch number\", i)\n",
    "        x, y = model.parse_batch(batch)\n",
    "        mels = x[2]\n",
    "        encodings = model.ref_encoder(mels)  # TODO: replace with .inference\n",
    "        train_ref_encodings.append(encodings.cpu().detach().numpy())\n",
    "    train_ref_encodings = np.concatenate(train_ref_encodings)\n",
    "    np.save(os.path.join(OUT_DIR, \"train_ref_encodings.npy\"), train_ref_encodings)"
   ]
  },
  {
   "cell_type": "markdown",
   "metadata": {},
   "source": [
    "Now let's actually calculate the singular value decomposition!"
   ]
  },
  {
   "cell_type": "code",
   "execution_count": 23,
   "metadata": {},
   "outputs": [],
   "source": [
    "try:\n",
    "    train_u = np.load(os.path.join(OUT_DIR, \"train_u.npy\"))\n",
    "    train_s = np.load(os.path.join(OUT_DIR, \"train_s.npy\"))\n",
    "    train_vh = np.load(os.path.join(OUT_DIR, \"train_vh.npy\"))\n",
    "except:\n",
    "    train_u, train_s, train_vh = np.linalg.svd(train_ref_encodings)\n",
    "    np.save(os.path.join(OUT_DIR, \"train_u.npy\"), train_u)\n",
    "    np.save(os.path.join(OUT_DIR, \"train_s.npy\"), train_s)\n",
    "    np.save(os.path.join(OUT_DIR, \"train_vh.npy\"), train_vh)"
   ]
  },
  {
   "cell_type": "markdown",
   "metadata": {},
   "source": [
    "And let's plot the spectrum of singular values."
   ]
  },
  {
   "cell_type": "code",
   "execution_count": 34,
   "metadata": {},
   "outputs": [
    {
     "data": {
      "image/png": "[encoded data removed]",
      "text/plain": [
       "<Figure size 1152x288 with 1 Axes>"
      ]
     },
     "metadata": {
      "needs_background": "light"
     },
     "output_type": "display_data"
    }
   ],
   "source": [
    "def plot_singular_values(filename, train_s, figsize=(16, 4)):\n",
    "    fig, axes = plt.subplots(1, 1, figsize=figsize)\n",
    "    axes.plot(train_s)\n",
    "    axes.set_xlabel('Principal component number')\n",
    "    axes.set_ylabel('Singular value')\n",
    "    plt.savefig(os.path.join(FIGS_DIR, filename))\n",
    "    plt.show()\n",
    "    \n",
    "plot_singular_values('ref_singular_values.png', train_s)"
   ]
  },
  {
   "cell_type": "code",
   "execution_count": 35,
   "metadata": {},
   "outputs": [
    {
     "data": {
      "text/plain": [
       "'/home/mcncm/class/6.867/proj/writeup/figures/checkpoint_27000'"
      ]
     },
     "execution_count": 35,
     "metadata": {},
     "output_type": "execute_result"
    }
   ],
   "source": [
    "FIGS_DIR"
   ]
  },
  {
   "cell_type": "code",
   "execution_count": null,
   "metadata": {},
   "outputs": [],
   "source": [
    "def cutoff_sigma_matrix(sigmas, tau):\n",
    "    r\"\"\"Return the sigma matrix without \n",
    "    \"\"\"\n",
    "    sigs = np.diag(sigmas * (sigmas >= tau))\n",
    "    return np.concatenate((sigs, np.zeros((n_users - n_movies, n_movies))))\n",
    "\n",
    "def reconstruct_threshold(tau):\n",
    "    r\"\"\"Estimate a matrix by singular value thresholding with cutoff tau.\"\"\"\n",
    "    return train_u @ cutoff_sigma_matrix(train_s, tau) @ train_u\n",
    "\n",
    "def reconstruct_sigmas_list(sigmas_list):\n",
    "    r\"\"\"Estimate a matrix using the principal component indices in a list\"\"\"\n",
    "    return sum((np.outer(train_s[i] * train_u[:,i], train_vh[i, :])\n",
    "                for i in sigmas_list))\n",
    "\n",
    "def reconstruct_top_sigmas(n_sigmas):\n",
    "    r\"\"\"Estimate a matrix using the biggest singular values\"\"\"\n",
    "    return reconstruct_sigmas_list(range())\n"
   ]
  },
  {
   "cell_type": "markdown",
   "metadata": {},
   "source": [
    "### Little tools for hotswapping the encoder module"
   ]
  },
  {
   "cell_type": "code",
   "execution_count": null,
   "metadata": {},
   "outputs": [],
   "source": [
    "hparams.batch_size"
   ]
  },
  {
   "cell_type": "code",
   "execution_count": null,
   "metadata": {},
   "outputs": [],
   "source": [
    "class RandEncoder(nn.Module):\n",
    "    def __init__(self, dimension, amplitude=5):\n",
    "        super(RandEncoder, self).__init__()\n",
    "        self.dimension = dimension\n",
    "        self.amplitude = amplitude\n",
    "    \n",
    "    def forward(self, x):\n",
    "        return self.amplitude * torch.rand(hparams.batch_size, self.dimension).cuda()\n",
    "\n",
    "\n",
    "class RandPerturbationEncoder(nn.Module):\n",
    "    def __init__(self, other, dimension, amplitude=5):\n",
    "        super(RandPerturbationEncoder, self).__init__()\n",
    "        self.dimension = dimension\n",
    "        self.amplitude = amplitude\n",
    "        self.other = other\n",
    "    \n",
    "    def forward(self, x):\n",
    "        rand_vec = self.amplitude * (torch.rand(hparams.batch_size, self.dimension).cuda() - 0.5)\n",
    "        return self.other(x) + rand_vec\n",
    "\n",
    "    \n",
    "class PCAEncoder(nn.Module):\n",
    "    def __init__(self, other, dimension, components):\n",
    "        super(PCAEncoder, self).__init__()\n",
    "        self.dimension = dimension\n",
    "        self.components = components\n",
    "    \n",
    "    def forward(self, x)\n",
    "        \n",
    "\n",
    "    \n",
    "class ZeroEncoder(nn.Module):\n",
    "    def __init__(self, dimension):\n",
    "        super(ZeroEncoder, self).__init__()\n",
    "        self.dimension = dimension\n",
    "\n",
    "    def forward(self, x):\n",
    "        return torch.zeros(hparams.batch_size, self.dimension).cuda()\n",
    "\n",
    "\n",
    "class EncoderContext():\n",
    "    r\"\"\"Swap in a new encoder module on the fly with a `with` statement.\n",
    "    \"\"\"\n",
    "    def __init__(self, model, encoder):\n",
    "        self.model = model\n",
    "        self.encoder = encoder\n",
    "    \n",
    "    def __enter__(self):\n",
    "        self.old_encoder = self.model.reference_encoder\n",
    "        self.model._modules['reference_encoder'] = self.encoder\n",
    "    \n",
    "    def __exit__(self, type, value, traceback):\n",
    "        print('exiting')\n",
    "        self.model._modules['reference_encoder'] = self.old_encoder"
   ]
  },
  {
   "cell_type": "markdown",
   "metadata": {},
   "source": [
    "#### Random vectors"
   ]
  },
  {
   "cell_type": "code",
   "execution_count": null,
   "metadata": {},
   "outputs": [],
   "source": [
    "common_name = 'rand'\n",
    "\n",
    "with EncoderContext(model, RandEncoder(128)):\n",
    "    y_pred_rand = model(x, y[0])\n",
    "    with torch.no_grad():\n",
    "        for i in range(y_pred_rand[0].shape[0]):\n",
    "            spec_transfer = trim_spec(y_pred_rand[0][i,...])\n",
    "            audio_data = waveglow.infer(spec_transfer.unsqueeze(0), sigma=0.666)\n",
    " \n",
    "            audio_data = denoiser(audio_data, strength=0.02).data.cpu().numpy()\n",
    "            save_audio(common_name + \"_{}\".format(i) + '.wav', audio_data)\n",
    "\n",
    "            plot_spectrogram(common_name + \"_{}\".format(i) + '.png',\n",
    "                             spec_transfer.float().data.cpu().numpy(),\n",
    "                             figsize=(8, 4))"
   ]
  },
  {
   "cell_type": "markdown",
   "metadata": {},
   "source": [
    "#### Zero vectors"
   ]
  },
  {
   "cell_type": "code",
   "execution_count": null,
   "metadata": {},
   "outputs": [],
   "source": [
    "common_name = 'zero'\n",
    "\n",
    "with EncoderContext(model, ZeroEncoder(128)):\n",
    "    y_pred_rand = model(x, y[0])\n",
    "    with torch.no_grad():\n",
    "        for i in range(y_pred_rand[0].shape[0]):\n",
    "            spec_transfer = trim_spec(y_pred_rand[0][i,...])\n",
    "            audio_data = waveglow.infer(spec_transfer.unsqueeze(0), sigma=0.666)\n",
    " \n",
    "            audio_data = denoiser(audio_data, strength=0.02).data.cpu().numpy()\n",
    "            save_audio(common_name + \"_{}\".format(i) + '.wav', audio_data)\n",
    "\n",
    "            plot_spectrogram(common_name + \"_{}\".format(i) + '.png',\n",
    "                             spec_transfer.float().data.cpu().numpy(),\n",
    "                             figsize=(8, 4))"
   ]
  },
  {
   "cell_type": "markdown",
   "metadata": {},
   "source": [
    "#### Randomly perturbed vectors"
   ]
  },
  {
   "cell_type": "code",
   "execution_count": null,
   "metadata": {
    "scrolled": true
   },
   "outputs": [],
   "source": [
    "common_name = 'pert'\n",
    "\n",
    "reference_encoder = model.reference_encoder\n",
    "with EncoderContext(model, RandPerturbationEncoder(reference_encoder, 128, amplitude=5)):\n",
    "    y_pred_rand = model(x, y[0])\n",
    "    with torch.no_grad():\n",
    "        for i in range(y_pred_rand[0].shape[0]):\n",
    "            spec_transfer = trim_spec(y_pred_rand[0][i,...])\n",
    "            audio_data = waveglow.infer(spec_transfer.unsqueeze(0), sigma=0.666)\n",
    " \n",
    "            audio_data = denoiser(audio_data, strength=0.02).data.cpu().numpy()\n",
    "            save_audio(common_name + \"_{}\".format(i) + '.wav', audio_data)\n",
    "\n",
    "            plot_spectrogram(common_name + \"_{}\".format(i) + '.png',\n",
    "                             spec_transfer.float().data.cpu().numpy(),\n",
    "                             figsize=(8, 4))"
   ]
  },
  {
   "cell_type": "markdown",
   "metadata": {},
   "source": [
    "## Stuff from original inference.ipynb"
   ]
  },
  {
   "cell_type": "markdown",
   "metadata": {},
   "source": [
    "#### Prepare text input"
   ]
  },
  {
   "cell_type": "code",
   "execution_count": null,
   "metadata": {},
   "outputs": [],
   "source": [
    "text = \"Institute has the finest professors.\"\n",
    "sequence = np.array(text_to_sequence(text, ['english_cleaners']))[None, :]\n",
    "sequence = torch.autograd.Variable(\n",
    "    torch.from_numpy(sequence)).cuda().long()"
   ]
  },
  {
   "cell_type": "markdown",
   "metadata": {},
   "source": [
    "#### Decode text input and plot results"
   ]
  },
  {
   "cell_type": "code",
   "execution_count": null,
   "metadata": {},
   "outputs": [],
   "source": [
    "mel_outputs, mel_outputs_postnet, _, alignments = model.inference(sequence)"
   ]
  },
  {
   "cell_type": "code",
   "execution_count": null,
   "metadata": {},
   "outputs": [],
   "source": [
    "plot_data('triple_spectrogram.png',\n",
    "          (mel_outputs.float().data.cpu().numpy()[0],\n",
    "           mel_outputs_postnet.float().data.cpu().numpy()[0],\n",
    "           alignments.float().data.cpu().numpy()[0].T))"
   ]
  },
  {
   "cell_type": "code",
   "execution_count": null,
   "metadata": {},
   "outputs": [],
   "source": [
    "common_name = 'institute_5k_steps'\n",
    "\n",
    "with torch.no_grad():\n",
    "    audio = waveglow.infer(mel_outputs_postnet, sigma=0.666)\n",
    "    data = audio[0].data.cpu().numpy()\n",
    "    save_audio(common_name + '.wav', data)\n",
    "\n",
    "plot_spectrogram(common_name + '.png',\n",
    "                 mel_outputs_postnet.float().data.cpu().numpy()[0],\n",
    "                 figsize=(8, 4))"
   ]
  },
  {
   "cell_type": "markdown",
   "metadata": {},
   "source": [
    "#### Synthesize audio from spectrogram using WaveGlow"
   ]
  },
  {
   "cell_type": "code",
   "execution_count": null,
   "metadata": {},
   "outputs": [],
   "source": [
    "mel_outputs_postnet"
   ]
  },
  {
   "cell_type": "code",
   "execution_count": null,
   "metadata": {},
   "outputs": [],
   "source": [
    "with torch.no_grad():\n",
    "    audio = waveglow.infer(mel_outputs_postnet, sigma=0.666)\n",
    "ipd.Audio(audio[0].data.cpu().numpy(), rate=hparams.sampling_rate)"
   ]
  },
  {
   "cell_type": "code",
   "execution_count": null,
   "metadata": {},
   "outputs": [],
   "source": [
    "#audio[0].data.cpu().numpy()\n",
    "torch.__version__"
   ]
  },
  {
   "cell_type": "markdown",
   "metadata": {},
   "source": [
    "#### (Optional) Remove WaveGlow bias"
   ]
  },
  {
   "cell_type": "code",
   "execution_count": null,
   "metadata": {},
   "outputs": [],
   "source": [
    "audio_denoised = denoiser(audio, strength=0.01)[:, 0]\n",
    "ipd.Audio(audio_denoised.cpu().numpy(), rate=hparams.sampling_rate) "
   ]
  },
  {
   "cell_type": "code",
   "execution_count": null,
   "metadata": {},
   "outputs": [],
   "source": []
  }
 ],
 "metadata": {
  "kernelspec": {
   "display_name": "6867",
   "language": "python",
   "name": "6867"
  },
  "language_info": {
   "codemirror_mode": {
    "name": "ipython",
    "version": 3
   },
   "file_extension": ".py",
   "mimetype": "text/x-python",
   "name": "python",
   "nbconvert_exporter": "python",
   "pygments_lexer": "ipython3",
   "version": "3.7.5"
  }
 },
 "nbformat": 4,
 "nbformat_minor": 2
}
